{
 "cells": [
  {
   "cell_type": "code",
   "execution_count": 16,
   "id": "5c1e1465",
   "metadata": {},
   "outputs": [],
   "source": [
    "#Импортируем необходиимых библиотек для реализации парсинга\n",
    "from selenium import webdriver\n",
    "from selenium_stealth import stealth # делает похожим на настоящего пользователя\n",
    "from bs4 import BeautifulSoup\n",
    "from selenium.webdriver.common.keys import Keys\n",
    "from time import sleep\n",
    "from tqdm import tqdm\n",
    "import pandas as pd\n",
    "import numpy as np"
   ]
  },
  {
   "cell_type": "code",
   "execution_count": 109,
   "id": "f179a59f",
   "metadata": {
    "scrolled": true
   },
   "outputs": [
    {
     "name": "stderr",
     "output_type": "stream",
     "text": [
      "C:\\Users\\skapr\\AppData\\Local\\Temp\\ipykernel_9792\\29343523.py:6: DeprecationWarning: executable_path has been deprecated, please pass in a Service object\n",
      "  driver = webdriver.Chrome(options=options, executable_path=r\"C:\\Python\\chromedriver.exe\")\n",
      "Обработанно страниц: 100%|██████████████████████████████████████████████████████████| 43/43 [1:55:15<00:00, 160.82s/it]\n"
     ]
    }
   ],
   "source": [
    "options = webdriver.ChromeOptions()\n",
    "options.add_argument(\"start_maximized\")\n",
    "\n",
    "options.add_experimental_option(\"excludeSwitches\", [\"enable-automation\"])\n",
    "options.add_experimental_option('useAutomationExtension', False)\n",
    "driver = webdriver.Chrome(options=options, executable_path=r\"C:\\Python\\chromedriver.exe\")\n",
    "#chromedriver должен соответствовать актуальной версии chrom, тут используется версия chrom 107.0.5304.121\n",
    "#версия chromedriver - 107.0.5304.62 (все работает!)\n",
    "\n",
    "stealth(driver,\n",
    "        languages=[\"en-US\", \"en\"],\n",
    "        vendor=\"Google Inc.\",\n",
    "        platform=\"Win32\",\n",
    "        webgl_vendor=\"Intel Iris OpenGL Engine\",\n",
    "        fix_hairline=True,\n",
    "        )\n",
    "\n",
    "imo = []\n",
    "\n",
    "for page in tqdm(range(0, 21500, 500), 'Обработанно страниц'):\n",
    "    url = f\"https://fleetphoto.ru/list.php?rgid=2&st={page}\" #загружаем русскоязычную версию сайта\n",
    "    driver.get(url)\n",
    "    \n",
    "    if page == 21000:\n",
    "        for j in range(1, 151):\n",
    "            try:\n",
    "                soup = BeautifulSoup(driver.page_source, 'lxml') #передаем данные в суп\n",
    "                data1 = soup.find('div', class_ = 'rtable').find('table').findAll('tr')[j]\n",
    "                dates_imo = data1.findAll('td')[4].text #выгружаем наименования\n",
    "                imo.append(dates_imo)\n",
    "            except:\n",
    "                dates_imo = 0\n",
    "                imo.append(dates_imo)\n",
    "                continue\n",
    "    else:\n",
    "        for j in range(1, 501):\n",
    "            try:\n",
    "                if page > 2000: #с 6-го листа появляется новый столбец Рег. № и ИМО становится 4-м\n",
    "                    soup = BeautifulSoup(driver.page_source, 'lxml') #передаем данные в суп\n",
    "                    data1 = soup.find('div', class_ = 'rtable').find('table').findAll('tr')[j]\n",
    "                    dates_imo = data1.findAll('td')[4].text #выгружаем наименования\n",
    "                    imo.append(dates_imo)\n",
    "                else: #до 5-го листа включительно ИМО является 3-м\n",
    "                    soup = BeautifulSoup(driver.page_source, 'lxml') #передаем данные в суп\n",
    "                    data1 = soup.find('div', class_ = 'rtable').find('table').findAll('tr')[j]\n",
    "                    dates_imo = data1.findAll('td')[3].text #выгружаем наименования\n",
    "                    imo.append(dates_imo)\n",
    "            except:\n",
    "                dates_imo = 0\n",
    "                imo.append(dates_imo)\n",
    "                continue"
   ]
  },
  {
   "cell_type": "code",
   "execution_count": 110,
   "id": "e2d09eea",
   "metadata": {},
   "outputs": [
    {
     "data": {
      "text/html": [
       "<div>\n",
       "<style scoped>\n",
       "    .dataframe tbody tr th:only-of-type {\n",
       "        vertical-align: middle;\n",
       "    }\n",
       "\n",
       "    .dataframe tbody tr th {\n",
       "        vertical-align: top;\n",
       "    }\n",
       "\n",
       "    .dataframe thead th {\n",
       "        text-align: right;\n",
       "    }\n",
       "</style>\n",
       "<table border=\"1\" class=\"dataframe\">\n",
       "  <thead>\n",
       "    <tr style=\"text-align: right;\">\n",
       "      <th></th>\n",
       "      <th>0</th>\n",
       "    </tr>\n",
       "  </thead>\n",
       "  <tbody>\n",
       "    <tr>\n",
       "      <th>0</th>\n",
       "      <td>9916795</td>\n",
       "    </tr>\n",
       "    <tr>\n",
       "      <th>1</th>\n",
       "      <td>9916800</td>\n",
       "    </tr>\n",
       "    <tr>\n",
       "      <th>2</th>\n",
       "      <td></td>\n",
       "    </tr>\n",
       "    <tr>\n",
       "      <th>3</th>\n",
       "      <td></td>\n",
       "    </tr>\n",
       "    <tr>\n",
       "      <th>4</th>\n",
       "      <td>8722238</td>\n",
       "    </tr>\n",
       "    <tr>\n",
       "      <th>...</th>\n",
       "      <td>...</td>\n",
       "    </tr>\n",
       "    <tr>\n",
       "      <th>21145</th>\n",
       "      <td>9759939</td>\n",
       "    </tr>\n",
       "    <tr>\n",
       "      <th>21146</th>\n",
       "      <td></td>\n",
       "    </tr>\n",
       "    <tr>\n",
       "      <th>21147</th>\n",
       "      <td>6703630</td>\n",
       "    </tr>\n",
       "    <tr>\n",
       "      <th>21148</th>\n",
       "      <td>6719809</td>\n",
       "    </tr>\n",
       "    <tr>\n",
       "      <th>21149</th>\n",
       "      <td>7041558</td>\n",
       "    </tr>\n",
       "  </tbody>\n",
       "</table>\n",
       "<p>21150 rows × 1 columns</p>\n",
       "</div>"
      ],
      "text/plain": [
       "             0\n",
       "0      9916795\n",
       "1      9916800\n",
       "2             \n",
       "3             \n",
       "4      8722238\n",
       "...        ...\n",
       "21145  9759939\n",
       "21146         \n",
       "21147  6703630\n",
       "21148  6719809\n",
       "21149  7041558\n",
       "\n",
       "[21150 rows x 1 columns]"
      ]
     },
     "execution_count": 110,
     "metadata": {},
     "output_type": "execute_result"
    }
   ],
   "source": [
    "#создаем DF\n",
    "df_imo = pd.DataFrame(imo)\n",
    "df_imo"
   ]
  },
  {
   "cell_type": "code",
   "execution_count": 111,
   "id": "47e1b6a5",
   "metadata": {},
   "outputs": [],
   "source": [
    "#Сохраняем в Excel\n",
    "writer = pd.ExcelWriter('Флитфото.xlsx')\n",
    "df_imo.to_excel(writer, 'imo')\n",
    "writer.save()"
   ]
  },
  {
   "cell_type": "code",
   "execution_count": null,
   "id": "f4075462",
   "metadata": {},
   "outputs": [],
   "source": []
  }
 ],
 "metadata": {
  "kernelspec": {
   "display_name": "Python 3 (ipykernel)",
   "language": "python",
   "name": "python3"
  },
  "language_info": {
   "codemirror_mode": {
    "name": "ipython",
    "version": 3
   },
   "file_extension": ".py",
   "mimetype": "text/x-python",
   "name": "python",
   "nbconvert_exporter": "python",
   "pygments_lexer": "ipython3",
   "version": "3.9.12"
  }
 },
 "nbformat": 4,
 "nbformat_minor": 5
}
