{
 "cells": [
  {
   "cell_type": "code",
   "execution_count": 3,
   "id": "d8cc25d1",
   "metadata": {},
   "outputs": [],
   "source": [
    "from bs4 import BeautifulSoup\n",
    "import requests\n",
    "import fake_useragent\n",
    "\n",
    "from selenium import webdriver\n",
    "from selenium_stealth import stealth # делает похожим на настоящего пользователя\n",
    "from bs4 import BeautifulSoup\n",
    "from selenium.webdriver.common.keys import Keys\n",
    "from time import sleep\n",
    "from tqdm import tqdm\n",
    "import pandas as pd\n",
    "import numpy as np"
   ]
  },
  {
   "cell_type": "code",
   "execution_count": 28,
   "id": "29d6f91b",
   "metadata": {},
   "outputs": [
    {
     "name": "stderr",
     "output_type": "stream",
     "text": [
      "C:\\Users\\skapr\\AppData\\Local\\Temp\\ipykernel_14732\\3781048308.py:6: DeprecationWarning: executable_path has been deprecated, please pass in a Service object\n",
      "  driver = webdriver.Chrome(options=options, executable_path=r\"C:\\Python\\chromedriver.exe\")\n",
      "Обработанно страниц:   0%|                                                                       | 0/2 [00:00<?, ?it/s]C:\\Users\\skapr\\AppData\\Local\\Temp\\ipykernel_14732\\3781048308.py:28: DeprecationWarning: find_elements_by_class_name is deprecated. Please use find_elements(by=By.CLASS_NAME, value=name) instead\n",
      "  blocks = driver.find_elements_by_class_name('iva-item-titleStep-pdebR')\n",
      "C:\\Users\\skapr\\AppData\\Local\\Temp\\ipykernel_14732\\3781048308.py:30: DeprecationWarning: find_element_by_tag_name is deprecated. Please use find_element(by=By.TAG_NAME, value=name) instead\n",
      "  link = block.find_element_by_tag_name('a').get_attribute(\"href\")\n",
      "Обработанно страниц: 100%|███████████████████████████████████████████████████████████████| 2/2 [00:41<00:00, 20.94s/it]\n"
     ]
    }
   ],
   "source": [
    "options = webdriver.ChromeOptions()\n",
    "options.add_argument(\"start_maximized\")\n",
    "\n",
    "options.add_experimental_option(\"excludeSwitches\", [\"enable-automation\"])\n",
    "options.add_experimental_option('useAutomationExtension', False)\n",
    "driver = webdriver.Chrome(options=options, executable_path=r\"C:\\Python\\chromedriver.exe\")\n",
    "\n",
    "stealth(driver,\n",
    "        languages=[\"en-US\", \"en\"],\n",
    "        vendor=\"Google Inc.\",\n",
    "        platform=\"Win32\",\n",
    "        webgl_vendor=\"Intel Iris OpenGL Engine\",\n",
    "        fix_hairline=True,\n",
    "        )\n",
    "\n",
    "link_all = []\n",
    "\n",
    "p = 3 # количество страниц\n",
    "\n",
    "for page in tqdm(range(1, p, 1), 'Обработанно страниц'):\n",
    "    \n",
    "    url = f\"https://www.avito.ru/moskva/kvartiry/prodam/novostroyka-ASgBAQICAUSSA8YQAUDmBxSOUg?f=ASgBAQECAUSSA8YQA0DmBxSOUs4VFOLsMMibDBSwxRcBRbjBDR17ImZyb20iOm51bGwsInRvIjoxNjc0MzM0ODAwfQ&i=1&p={page}\"\n",
    "    driver.get(url)\n",
    "    sleep(2) #спим 2 секунды (прогрузка страницы)\n",
    "    \n",
    "    #выгружаем ссылку по всем квартирам\n",
    "    blocks = driver.find_elements_by_class_name('iva-item-titleStep-pdebR')\n",
    "    for block in blocks:\n",
    "        link = block.find_element_by_tag_name('a').get_attribute(\"href\")\n",
    "        link_all.append(link)"
   ]
  },
  {
   "cell_type": "code",
   "execution_count": 29,
   "id": "77b0f5b1",
   "metadata": {},
   "outputs": [
    {
     "data": {
      "text/plain": [
       "84"
      ]
     },
     "execution_count": 29,
     "metadata": {},
     "output_type": "execute_result"
    }
   ],
   "source": [
    "len(link_all)"
   ]
  },
  {
   "cell_type": "code",
   "execution_count": 30,
   "id": "8f968eab",
   "metadata": {},
   "outputs": [
    {
     "name": "stderr",
     "output_type": "stream",
     "text": [
      "Сбор данных:   0%|                                                                              | 0/84 [00:00<?, ?it/s]C:\\Users\\skapr\\AppData\\Local\\Temp\\ipykernel_14732\\1670436500.py:9: DeprecationWarning: find_element_by_class_name is deprecated. Please use find_element(by=By.CLASS_NAME, value=name) instead\n",
      "  table_1 = driver.find_element_by_class_name('images-preview-previewWrapper-R_a4U').find_elements_by_tag_name('li')\n",
      "C:\\Users\\skapr\\AppData\\Local\\Temp\\ipykernel_14732\\1670436500.py:9: DeprecationWarning: find_elements_by_tag_name is deprecated. Please use find_elements(by=By.TAG_NAME, value=name) instead\n",
      "  table_1 = driver.find_element_by_class_name('images-preview-previewWrapper-R_a4U').find_elements_by_tag_name('li')\n",
      "C:\\Users\\skapr\\AppData\\Local\\Temp\\ipykernel_14732\\1670436500.py:12: DeprecationWarning: find_element_by_tag_name is deprecated. Please use find_element(by=By.TAG_NAME, value=name) instead\n",
      "  foto = tab.find_element_by_tag_name('img').get_attribute(\"src\")\n",
      "Сбор данных: 100%|█████████████████████████████████████████████████████████████████████| 84/84 [05:32<00:00,  3.96s/it]\n"
     ]
    }
   ],
   "source": [
    "link_all_photo = []\n",
    "\n",
    "for lnk in tqdm(link_all, 'Сбор данных'):\n",
    "    \n",
    "    try:\n",
    "        driver.get(lnk) #открываем ссылку\n",
    "        sleep(2) #спим 2 секунды (прогрузка страницы)\n",
    "        \n",
    "        table_1 = driver.find_element_by_class_name('images-preview-previewWrapper-R_a4U').find_elements_by_tag_name('li')\n",
    "\n",
    "        for tab in table_1:\n",
    "            foto = tab.find_element_by_tag_name('img').get_attribute(\"src\")\n",
    "            link_all_photo.append(foto)\n",
    "    \n",
    "    except:\n",
    "        continue"
   ]
  },
  {
   "cell_type": "code",
   "execution_count": 31,
   "id": "ebe05314",
   "metadata": {},
   "outputs": [
    {
     "data": {
      "text/plain": [
       "1548"
      ]
     },
     "execution_count": 31,
     "metadata": {},
     "output_type": "execute_result"
    }
   ],
   "source": [
    "len(link_all_photo)"
   ]
  },
  {
   "cell_type": "code",
   "execution_count": 32,
   "id": "3a67edab",
   "metadata": {},
   "outputs": [
    {
     "name": "stderr",
     "output_type": "stream",
     "text": [
      "Сбор данных: 100%|█████████████████████████████████████████████████████████████████| 1548/1548 [43:33<00:00,  1.69s/it]\n"
     ]
    }
   ],
   "source": [
    "path = \"D:\\\\Стас\\\\Ученье - Свет\\\\Оценка\\\\Аспирантура\\\\Видео по NN, Data mining, ABC и т.д\\\\Распределение Гаусса, регрессия\\\\Python\\\\!Наработки\\\\Отделка\\\\1. без отделки\\\\\"\n",
    "a = 64715\n",
    "\n",
    "for lnk in tqdm(link_all_photo, 'Сбор данных'):\n",
    "    a = a + 1\n",
    "    try:\n",
    "        name = str(a) + \"_wf\"\n",
    "        p = requests.get(lnk)\n",
    "        out = open(path + name + \".jpg\", \"wb\")\n",
    "        out.write(p.content)\n",
    "        out.close()\n",
    "    \n",
    "    except:\n",
    "        continue"
   ]
  },
  {
   "cell_type": "code",
   "execution_count": null,
   "id": "1f918c14",
   "metadata": {},
   "outputs": [],
   "source": []
  },
  {
   "cell_type": "code",
   "execution_count": null,
   "id": "b32191d0",
   "metadata": {},
   "outputs": [],
   "source": []
  }
 ],
 "metadata": {
  "kernelspec": {
   "display_name": "Python 3 (ipykernel)",
   "language": "python",
   "name": "python3"
  },
  "language_info": {
   "codemirror_mode": {
    "name": "ipython",
    "version": 3
   },
   "file_extension": ".py",
   "mimetype": "text/x-python",
   "name": "python",
   "nbconvert_exporter": "python",
   "pygments_lexer": "ipython3",
   "version": "3.9.12"
  }
 },
 "nbformat": 4,
 "nbformat_minor": 5
}
